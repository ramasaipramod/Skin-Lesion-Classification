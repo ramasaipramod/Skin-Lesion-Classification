{
  "cells": [
    {
      "cell_type": "code",
      "execution_count": 1,
      "metadata": {
        "id": "vzaEWkYvrWdT"
      },
      "outputs": [],
      "source": [
        "import numpy as np\n",
        "import pandas as pd\n",
        "import matplotlib.pyplot as plt\n",
        "import cv2\n",
        "import os\n",
        "import joblib\n",
        "from imageio.v3 import imread\n",
        "from PIL import Image\n",
        "from sklearn.model_selection import train_test_split\n",
        "from sklearn.preprocessing import LabelEncoder\n",
        "import torch\n",
        "from torch.utils.data import Dataset\n",
        "from torchvision import transforms, utils\n",
        "import pywt\n",
        "from numpy import asarray\n",
        "from imblearn.over_sampling import SMOTE\n",
        "from sklearn.model_selection import train_test_split\n",
        "from imblearn.over_sampling import RandomOverSampler\n",
        "from imblearn.under_sampling import RandomUnderSampler\n",
        "from sklearn.ensemble import RandomForestClassifier\n",
        "from sklearn.metrics import classification_report\n",
        "from sklearn.metrics import confusion_matrix"
      ]
    },
    {
      "cell_type": "code",
      "source": [
        "metadata = pd.read_csv('/content/drive/MyDrive/PR dataset/HAM10000_metadata.csv')"
      ],
      "metadata": {
        "id": "xc4g_TfsSkcN"
      },
      "execution_count": null,
      "outputs": []
    },
    {
      "cell_type": "code",
      "source": [
        "label_encoder = LabelEncoder()\n",
        "metadata['dx_label'] = label_encoder.fit_transform(metadata['dx'])"
      ],
      "metadata": {
        "id": "87BngkPGSm9J"
      },
      "execution_count": null,
      "outputs": []
    },
    {
      "cell_type": "code",
      "source": [
        "original_class_counts = np.bincount(metadata[\"dx_label\"])\n",
        "\n",
        "ros = RandomOverSampler(sampling_strategy={0: 500, 3: 500, 6: 500}, random_state=42)\n",
        "X_train_oversampled, y_train_oversampled = ros.fit_resample(metadata, metadata[\"dx_label\"])\n",
        "\n",
        "rus = RandomUnderSampler(sampling_strategy={1: 500, 2: 1000, 4: 1000, 5: 1000}, random_state=42)\n",
        "metadata, y_train_resampled = rus.fit_resample(X_train_oversampled, y_train_oversampled)"
      ],
      "metadata": {
        "id": "EtGqPHBDSfsA"
      },
      "execution_count": null,
      "outputs": []
    },
    {
      "cell_type": "code",
      "source": [
        "metadata"
      ],
      "metadata": {
        "colab": {
          "base_uri": "https://localhost:8080/",
          "height": 423
        },
        "id": "GFTRu5UITzrz",
        "outputId": "d98786ab-2ef1-4bca-f9c5-23adffd531c9"
      },
      "execution_count": null,
      "outputs": [
        {
          "output_type": "execute_result",
          "data": {
            "text/plain": [
              "        lesion_id      image_id     dx    dx_type   age     sex  \\\n",
              "0     HAM_0002644  ISIC_0029417  akiec      histo  80.0  female   \n",
              "1     HAM_0006002  ISIC_0029915  akiec      histo  50.0  female   \n",
              "2     HAM_0000549  ISIC_0029360  akiec      histo  70.0    male   \n",
              "3     HAM_0000549  ISIC_0026152  akiec      histo  70.0    male   \n",
              "4     HAM_0000673  ISIC_0029659  akiec      histo  70.0  female   \n",
              "...           ...           ...    ...        ...   ...     ...   \n",
              "4995  HAM_0004542  ISIC_0024402   vasc  consensus   0.0  female   \n",
              "4996  HAM_0001537  ISIC_0026467   vasc  consensus  55.0    male   \n",
              "4997  HAM_0004455  ISIC_0030882   vasc      histo  20.0    male   \n",
              "4998  HAM_0003862  ISIC_0033031   vasc      histo  45.0    male   \n",
              "4999  HAM_0002787  ISIC_0025425   vasc  consensus  50.0    male   \n",
              "\n",
              "         localization  dx_label  \n",
              "0                neck         0  \n",
              "1                face         0  \n",
              "2     upper extremity         0  \n",
              "3     upper extremity         0  \n",
              "4                face         0  \n",
              "...               ...       ...  \n",
              "4995             back         6  \n",
              "4996  lower extremity         6  \n",
              "4997            trunk         6  \n",
              "4998  upper extremity         6  \n",
              "4999            trunk         6  \n",
              "\n",
              "[5000 rows x 8 columns]"
            ],
            "text/html": [
              "\n",
              "  <div id=\"df-10af2a5c-85a2-4a08-a530-4699e940866e\" class=\"colab-df-container\">\n",
              "    <div>\n",
              "<style scoped>\n",
              "    .dataframe tbody tr th:only-of-type {\n",
              "        vertical-align: middle;\n",
              "    }\n",
              "\n",
              "    .dataframe tbody tr th {\n",
              "        vertical-align: top;\n",
              "    }\n",
              "\n",
              "    .dataframe thead th {\n",
              "        text-align: right;\n",
              "    }\n",
              "</style>\n",
              "<table border=\"1\" class=\"dataframe\">\n",
              "  <thead>\n",
              "    <tr style=\"text-align: right;\">\n",
              "      <th></th>\n",
              "      <th>lesion_id</th>\n",
              "      <th>image_id</th>\n",
              "      <th>dx</th>\n",
              "      <th>dx_type</th>\n",
              "      <th>age</th>\n",
              "      <th>sex</th>\n",
              "      <th>localization</th>\n",
              "      <th>dx_label</th>\n",
              "    </tr>\n",
              "  </thead>\n",
              "  <tbody>\n",
              "    <tr>\n",
              "      <th>0</th>\n",
              "      <td>HAM_0002644</td>\n",
              "      <td>ISIC_0029417</td>\n",
              "      <td>akiec</td>\n",
              "      <td>histo</td>\n",
              "      <td>80.0</td>\n",
              "      <td>female</td>\n",
              "      <td>neck</td>\n",
              "      <td>0</td>\n",
              "    </tr>\n",
              "    <tr>\n",
              "      <th>1</th>\n",
              "      <td>HAM_0006002</td>\n",
              "      <td>ISIC_0029915</td>\n",
              "      <td>akiec</td>\n",
              "      <td>histo</td>\n",
              "      <td>50.0</td>\n",
              "      <td>female</td>\n",
              "      <td>face</td>\n",
              "      <td>0</td>\n",
              "    </tr>\n",
              "    <tr>\n",
              "      <th>2</th>\n",
              "      <td>HAM_0000549</td>\n",
              "      <td>ISIC_0029360</td>\n",
              "      <td>akiec</td>\n",
              "      <td>histo</td>\n",
              "      <td>70.0</td>\n",
              "      <td>male</td>\n",
              "      <td>upper extremity</td>\n",
              "      <td>0</td>\n",
              "    </tr>\n",
              "    <tr>\n",
              "      <th>3</th>\n",
              "      <td>HAM_0000549</td>\n",
              "      <td>ISIC_0026152</td>\n",
              "      <td>akiec</td>\n",
              "      <td>histo</td>\n",
              "      <td>70.0</td>\n",
              "      <td>male</td>\n",
              "      <td>upper extremity</td>\n",
              "      <td>0</td>\n",
              "    </tr>\n",
              "    <tr>\n",
              "      <th>4</th>\n",
              "      <td>HAM_0000673</td>\n",
              "      <td>ISIC_0029659</td>\n",
              "      <td>akiec</td>\n",
              "      <td>histo</td>\n",
              "      <td>70.0</td>\n",
              "      <td>female</td>\n",
              "      <td>face</td>\n",
              "      <td>0</td>\n",
              "    </tr>\n",
              "    <tr>\n",
              "      <th>...</th>\n",
              "      <td>...</td>\n",
              "      <td>...</td>\n",
              "      <td>...</td>\n",
              "      <td>...</td>\n",
              "      <td>...</td>\n",
              "      <td>...</td>\n",
              "      <td>...</td>\n",
              "      <td>...</td>\n",
              "    </tr>\n",
              "    <tr>\n",
              "      <th>4995</th>\n",
              "      <td>HAM_0004542</td>\n",
              "      <td>ISIC_0024402</td>\n",
              "      <td>vasc</td>\n",
              "      <td>consensus</td>\n",
              "      <td>0.0</td>\n",
              "      <td>female</td>\n",
              "      <td>back</td>\n",
              "      <td>6</td>\n",
              "    </tr>\n",
              "    <tr>\n",
              "      <th>4996</th>\n",
              "      <td>HAM_0001537</td>\n",
              "      <td>ISIC_0026467</td>\n",
              "      <td>vasc</td>\n",
              "      <td>consensus</td>\n",
              "      <td>55.0</td>\n",
              "      <td>male</td>\n",
              "      <td>lower extremity</td>\n",
              "      <td>6</td>\n",
              "    </tr>\n",
              "    <tr>\n",
              "      <th>4997</th>\n",
              "      <td>HAM_0004455</td>\n",
              "      <td>ISIC_0030882</td>\n",
              "      <td>vasc</td>\n",
              "      <td>histo</td>\n",
              "      <td>20.0</td>\n",
              "      <td>male</td>\n",
              "      <td>trunk</td>\n",
              "      <td>6</td>\n",
              "    </tr>\n",
              "    <tr>\n",
              "      <th>4998</th>\n",
              "      <td>HAM_0003862</td>\n",
              "      <td>ISIC_0033031</td>\n",
              "      <td>vasc</td>\n",
              "      <td>histo</td>\n",
              "      <td>45.0</td>\n",
              "      <td>male</td>\n",
              "      <td>upper extremity</td>\n",
              "      <td>6</td>\n",
              "    </tr>\n",
              "    <tr>\n",
              "      <th>4999</th>\n",
              "      <td>HAM_0002787</td>\n",
              "      <td>ISIC_0025425</td>\n",
              "      <td>vasc</td>\n",
              "      <td>consensus</td>\n",
              "      <td>50.0</td>\n",
              "      <td>male</td>\n",
              "      <td>trunk</td>\n",
              "      <td>6</td>\n",
              "    </tr>\n",
              "  </tbody>\n",
              "</table>\n",
              "<p>5000 rows × 8 columns</p>\n",
              "</div>\n",
              "    <div class=\"colab-df-buttons\">\n",
              "\n",
              "  <div class=\"colab-df-container\">\n",
              "    <button class=\"colab-df-convert\" onclick=\"convertToInteractive('df-10af2a5c-85a2-4a08-a530-4699e940866e')\"\n",
              "            title=\"Convert this dataframe to an interactive table.\"\n",
              "            style=\"display:none;\">\n",
              "\n",
              "  <svg xmlns=\"http://www.w3.org/2000/svg\" height=\"24px\" viewBox=\"0 -960 960 960\">\n",
              "    <path d=\"M120-120v-720h720v720H120Zm60-500h600v-160H180v160Zm220 220h160v-160H400v160Zm0 220h160v-160H400v160ZM180-400h160v-160H180v160Zm440 0h160v-160H620v160ZM180-180h160v-160H180v160Zm440 0h160v-160H620v160Z\"/>\n",
              "  </svg>\n",
              "    </button>\n",
              "\n",
              "  <style>\n",
              "    .colab-df-container {\n",
              "      display:flex;\n",
              "      gap: 12px;\n",
              "    }\n",
              "\n",
              "    .colab-df-convert {\n",
              "      background-color: #E8F0FE;\n",
              "      border: none;\n",
              "      border-radius: 50%;\n",
              "      cursor: pointer;\n",
              "      display: none;\n",
              "      fill: #1967D2;\n",
              "      height: 32px;\n",
              "      padding: 0 0 0 0;\n",
              "      width: 32px;\n",
              "    }\n",
              "\n",
              "    .colab-df-convert:hover {\n",
              "      background-color: #E2EBFA;\n",
              "      box-shadow: 0px 1px 2px rgba(60, 64, 67, 0.3), 0px 1px 3px 1px rgba(60, 64, 67, 0.15);\n",
              "      fill: #174EA6;\n",
              "    }\n",
              "\n",
              "    .colab-df-buttons div {\n",
              "      margin-bottom: 4px;\n",
              "    }\n",
              "\n",
              "    [theme=dark] .colab-df-convert {\n",
              "      background-color: #3B4455;\n",
              "      fill: #D2E3FC;\n",
              "    }\n",
              "\n",
              "    [theme=dark] .colab-df-convert:hover {\n",
              "      background-color: #434B5C;\n",
              "      box-shadow: 0px 1px 3px 1px rgba(0, 0, 0, 0.15);\n",
              "      filter: drop-shadow(0px 1px 2px rgba(0, 0, 0, 0.3));\n",
              "      fill: #FFFFFF;\n",
              "    }\n",
              "  </style>\n",
              "\n",
              "    <script>\n",
              "      const buttonEl =\n",
              "        document.querySelector('#df-10af2a5c-85a2-4a08-a530-4699e940866e button.colab-df-convert');\n",
              "      buttonEl.style.display =\n",
              "        google.colab.kernel.accessAllowed ? 'block' : 'none';\n",
              "\n",
              "      async function convertToInteractive(key) {\n",
              "        const element = document.querySelector('#df-10af2a5c-85a2-4a08-a530-4699e940866e');\n",
              "        const dataTable =\n",
              "          await google.colab.kernel.invokeFunction('convertToInteractive',\n",
              "                                                    [key], {});\n",
              "        if (!dataTable) return;\n",
              "\n",
              "        const docLinkHtml = 'Like what you see? Visit the ' +\n",
              "          '<a target=\"_blank\" href=https://colab.research.google.com/notebooks/data_table.ipynb>data table notebook</a>'\n",
              "          + ' to learn more about interactive tables.';\n",
              "        element.innerHTML = '';\n",
              "        dataTable['output_type'] = 'display_data';\n",
              "        await google.colab.output.renderOutput(dataTable, element);\n",
              "        const docLink = document.createElement('div');\n",
              "        docLink.innerHTML = docLinkHtml;\n",
              "        element.appendChild(docLink);\n",
              "      }\n",
              "    </script>\n",
              "  </div>\n",
              "\n",
              "\n",
              "<div id=\"df-be1d008c-fe09-494e-9a87-287f26e9da53\">\n",
              "  <button class=\"colab-df-quickchart\" onclick=\"quickchart('df-be1d008c-fe09-494e-9a87-287f26e9da53')\"\n",
              "            title=\"Suggest charts\"\n",
              "            style=\"display:none;\">\n",
              "\n",
              "<svg xmlns=\"http://www.w3.org/2000/svg\" height=\"24px\"viewBox=\"0 0 24 24\"\n",
              "     width=\"24px\">\n",
              "    <g>\n",
              "        <path d=\"M19 3H5c-1.1 0-2 .9-2 2v14c0 1.1.9 2 2 2h14c1.1 0 2-.9 2-2V5c0-1.1-.9-2-2-2zM9 17H7v-7h2v7zm4 0h-2V7h2v10zm4 0h-2v-4h2v4z\"/>\n",
              "    </g>\n",
              "</svg>\n",
              "  </button>\n",
              "\n",
              "<style>\n",
              "  .colab-df-quickchart {\n",
              "      --bg-color: #E8F0FE;\n",
              "      --fill-color: #1967D2;\n",
              "      --hover-bg-color: #E2EBFA;\n",
              "      --hover-fill-color: #174EA6;\n",
              "      --disabled-fill-color: #AAA;\n",
              "      --disabled-bg-color: #DDD;\n",
              "  }\n",
              "\n",
              "  [theme=dark] .colab-df-quickchart {\n",
              "      --bg-color: #3B4455;\n",
              "      --fill-color: #D2E3FC;\n",
              "      --hover-bg-color: #434B5C;\n",
              "      --hover-fill-color: #FFFFFF;\n",
              "      --disabled-bg-color: #3B4455;\n",
              "      --disabled-fill-color: #666;\n",
              "  }\n",
              "\n",
              "  .colab-df-quickchart {\n",
              "    background-color: var(--bg-color);\n",
              "    border: none;\n",
              "    border-radius: 50%;\n",
              "    cursor: pointer;\n",
              "    display: none;\n",
              "    fill: var(--fill-color);\n",
              "    height: 32px;\n",
              "    padding: 0;\n",
              "    width: 32px;\n",
              "  }\n",
              "\n",
              "  .colab-df-quickchart:hover {\n",
              "    background-color: var(--hover-bg-color);\n",
              "    box-shadow: 0 1px 2px rgba(60, 64, 67, 0.3), 0 1px 3px 1px rgba(60, 64, 67, 0.15);\n",
              "    fill: var(--button-hover-fill-color);\n",
              "  }\n",
              "\n",
              "  .colab-df-quickchart-complete:disabled,\n",
              "  .colab-df-quickchart-complete:disabled:hover {\n",
              "    background-color: var(--disabled-bg-color);\n",
              "    fill: var(--disabled-fill-color);\n",
              "    box-shadow: none;\n",
              "  }\n",
              "\n",
              "  .colab-df-spinner {\n",
              "    border: 2px solid var(--fill-color);\n",
              "    border-color: transparent;\n",
              "    border-bottom-color: var(--fill-color);\n",
              "    animation:\n",
              "      spin 1s steps(1) infinite;\n",
              "  }\n",
              "\n",
              "  @keyframes spin {\n",
              "    0% {\n",
              "      border-color: transparent;\n",
              "      border-bottom-color: var(--fill-color);\n",
              "      border-left-color: var(--fill-color);\n",
              "    }\n",
              "    20% {\n",
              "      border-color: transparent;\n",
              "      border-left-color: var(--fill-color);\n",
              "      border-top-color: var(--fill-color);\n",
              "    }\n",
              "    30% {\n",
              "      border-color: transparent;\n",
              "      border-left-color: var(--fill-color);\n",
              "      border-top-color: var(--fill-color);\n",
              "      border-right-color: var(--fill-color);\n",
              "    }\n",
              "    40% {\n",
              "      border-color: transparent;\n",
              "      border-right-color: var(--fill-color);\n",
              "      border-top-color: var(--fill-color);\n",
              "    }\n",
              "    60% {\n",
              "      border-color: transparent;\n",
              "      border-right-color: var(--fill-color);\n",
              "    }\n",
              "    80% {\n",
              "      border-color: transparent;\n",
              "      border-right-color: var(--fill-color);\n",
              "      border-bottom-color: var(--fill-color);\n",
              "    }\n",
              "    90% {\n",
              "      border-color: transparent;\n",
              "      border-bottom-color: var(--fill-color);\n",
              "    }\n",
              "  }\n",
              "</style>\n",
              "\n",
              "  <script>\n",
              "    async function quickchart(key) {\n",
              "      const quickchartButtonEl =\n",
              "        document.querySelector('#' + key + ' button');\n",
              "      quickchartButtonEl.disabled = true;  // To prevent multiple clicks.\n",
              "      quickchartButtonEl.classList.add('colab-df-spinner');\n",
              "      try {\n",
              "        const charts = await google.colab.kernel.invokeFunction(\n",
              "            'suggestCharts', [key], {});\n",
              "      } catch (error) {\n",
              "        console.error('Error during call to suggestCharts:', error);\n",
              "      }\n",
              "      quickchartButtonEl.classList.remove('colab-df-spinner');\n",
              "      quickchartButtonEl.classList.add('colab-df-quickchart-complete');\n",
              "    }\n",
              "    (() => {\n",
              "      let quickchartButtonEl =\n",
              "        document.querySelector('#df-be1d008c-fe09-494e-9a87-287f26e9da53 button');\n",
              "      quickchartButtonEl.style.display =\n",
              "        google.colab.kernel.accessAllowed ? 'block' : 'none';\n",
              "    })();\n",
              "  </script>\n",
              "</div>\n",
              "    </div>\n",
              "  </div>\n"
            ]
          },
          "metadata": {},
          "execution_count": 75
        }
      ]
    },
    {
      "cell_type": "code",
      "source": [
        "def  image_segmentaion(img):\n",
        "\n",
        "    img = img.reshape((-1,3))\n",
        "    img = np.float32(img)\n",
        "\n",
        "    criteria = (cv2.TERM_CRITERIA_EPS + cv2.TERM_CRITERIA_MAX_ITER, 10, 1.0)\n",
        "    K = 2\n",
        "    ret,label,center=cv2.kmeans(img,K,None,criteria,10,cv2.KMEANS_RANDOM_CENTERS)\n",
        "\n",
        "    center = np.uint8(center)\n",
        "    colors = np.concatenate((center[0],center[1]),axis=None)\n",
        "\n",
        "    col = 0 if np.mean(center[0]) > np.mean(center[1]) else 1\n",
        "    res = center[label.flatten()]\n",
        "    mask = res.reshape((image.shape))\n",
        "    for i in range(len(mask)):\n",
        "      for j in range(len(mask[i])):\n",
        "        if mask[i][j][0] == center[col][0] and mask[i][j][1] == center[col][1] and mask[i][j][2] == center[col][2]: mask[i][j] = [0, 0, 0]\n",
        "        else: mask[i][j] = [1, 1, 1]\n",
        "\n",
        "    edges = cv2.Canny(mask,100,200)\n",
        "    image = np.multiply(mask,image)\n",
        "\n",
        "    return image,colors,edges"
      ],
      "metadata": {
        "id": "I4l7A00Rtg9R"
      },
      "execution_count": null,
      "outputs": []
    },
    {
      "cell_type": "code",
      "execution_count": null,
      "metadata": {
        "id": "SdbVx6ngSdd-"
      },
      "outputs": [],
      "source": [
        "def gaborfilter(img):\n",
        "\n",
        "    ksize = 15\n",
        "    sigma = 5\n",
        "    theta = 1*np.pi/2\n",
        "    lamda = 1*np.pi/4\n",
        "    gamma=0.9\n",
        "    phi = 0.8\n",
        "\n",
        "    kernel = cv2.getGaborKernel((ksize, ksize), sigma, theta, lamda, gamma, phi, ktype=cv2.CV_32F)\n",
        "\n",
        "    img = cv2.cvtColor(img, cv2.COLOR_BGR2GRAY)\n",
        "    fimg = cv2.filter2D(img, cv2.CV_8UC3, kernel)\n",
        "\n",
        "    return fimg"
      ]
    },
    {
      "cell_type": "code",
      "source": [
        "def wavelet_transform(img):\n",
        "  LL, (image, HL, HH) = pywt.dwt2(image, 'bior1.3')\n",
        "  return image"
      ],
      "metadata": {
        "id": "Cl3OjLOquON4"
      },
      "execution_count": null,
      "outputs": []
    },
    {
      "cell_type": "code",
      "source": [
        "class_labels= {\n",
        "    'nv': 'Melanocytic nevi',\n",
        "    'mel': 'Melanoma',\n",
        "    'bkl': 'Benign keratosis-like lesions',\n",
        "    'bcc': 'Basal cell carcinoma',\n",
        "    'akiec': 'Actinic keratoses and intraepithelial carcinoma',\n",
        "    'vasc': 'Vascular lesions',\n",
        "    'df': 'Dermatofibroma'\n",
        "}"
      ],
      "metadata": {
        "id": "joeLBFo_x8GN"
      },
      "execution_count": null,
      "outputs": []
    },
    {
      "cell_type": "code",
      "execution_count": null,
      "metadata": {
        "id": "dG4mKIM2ixky"
      },
      "outputs": [],
      "source": [
        "class DatasetLoader(Dataset):\n",
        "\n",
        "    def __init__(self,root_dir,mode):\n",
        "        self.metadata = metadata\n",
        "        self.root_dir = root_dir\n",
        "        self.mode = mode\n",
        "\n",
        "    def __len__(self):\n",
        "        print(metadata)\n",
        "        return len(self.metadata)\n",
        "\n",
        "    def __getitem__(self,i):\n",
        "\n",
        "        if torch.is_tensor(i):\n",
        "            i = i.tolist()\n",
        "        disease = self.metadata.iloc[i,7]\n",
        "        img_name = os.path.join(self.root_dir,\n",
        "                                f\"{self.metadata.iloc[i, 1]}.jpg\")\n",
        "        image = Image.open(img_name)\n",
        "        image = asarray(image)\n",
        "        if self.mode==4:\n",
        "          sample = {'Image': image,'disease': disease.astype(float)}\n",
        "          return sample\n",
        "        image,colors,edges = image_segmentaion(image)\n",
        "        if self.mode==0:\n",
        "          features = gaborfilter(image)\n",
        "        if self.mode==1:\n",
        "           features = wavelet_transform(image)\n",
        "        if self.mode==2:\n",
        "           features = edges\n",
        "\n",
        "        sample = {'features': features.flatten(), 'color' : colors, 'disease': disease.astype(float)}\n",
        "        return sample"
      ]
    },
    {
      "cell_type": "code",
      "execution_count": null,
      "metadata": {
        "id": "SCxIjQt39xL_"
      },
      "outputs": [],
      "source": [
        "dataset = DatasetLoader(root_dir=r'/content/drive/MyDrive/PR dataset/Scaled_Images',mode=4)"
      ]
    },
    {
      "cell_type": "code",
      "execution_count": null,
      "metadata": {
        "colab": {
          "base_uri": "https://localhost:8080/"
        },
        "id": "PRHFGXQelz9O",
        "outputId": "18b36383-774a-44cd-9985-ae1896ca903c"
      },
      "outputs": [
        {
          "output_type": "stream",
          "name": "stdout",
          "text": [
            "1000 samples read\n",
            "2000 samples read\n",
            "3000 samples read\n",
            "4000 samples read\n",
            "5000 samples read\n"
          ]
        }
      ],
      "source": [
        "i=0\n",
        "dataX=[]\n",
        "datay=[]\n",
        "for X in dataset:\n",
        "  i+=1\n",
        "  # print(X[\"features\"].shape)\n",
        "  dataX.append(X['Image'])\n",
        "  datay.append(X['disease'])\n",
        "  if i%1000==0:\n",
        "    print(f'{i} samples read')"
      ]
    },
    {
      "cell_type": "code",
      "source": [
        "dataX[0].shape"
      ],
      "metadata": {
        "colab": {
          "base_uri": "https://localhost:8080/"
        },
        "id": "-mp3UVchY3mB",
        "outputId": "043fbb2a-ce5c-47d5-ceb7-1a50c07406a3"
      },
      "execution_count": null,
      "outputs": [
        {
          "output_type": "execute_result",
          "data": {
            "text/plain": [
              "(45, 60, 3)"
            ]
          },
          "metadata": {},
          "execution_count": 96
        }
      ]
    },
    {
      "cell_type": "code",
      "source": [
        "pd.Series(datay).value_counts()"
      ],
      "metadata": {
        "colab": {
          "base_uri": "https://localhost:8080/"
        },
        "id": "00CugubeI5e1",
        "outputId": "c8384449-6fa1-45a4-cf4d-89e7347bd646"
      },
      "execution_count": null,
      "outputs": [
        {
          "output_type": "execute_result",
          "data": {
            "text/plain": [
              "2.0    1000\n",
              "4.0    1000\n",
              "5.0    1000\n",
              "0.0     500\n",
              "1.0     500\n",
              "3.0     500\n",
              "6.0     500\n",
              "dtype: int64"
            ]
          },
          "metadata": {},
          "execution_count": 97
        }
      ]
    },
    {
      "cell_type": "code",
      "source": [
        "X_train, X_test, y_train, y_test = train_test_split(dataX, datay, test_size=0.2, random_state=42)"
      ],
      "metadata": {
        "id": "InsAWO60qokL"
      },
      "execution_count": null,
      "outputs": []
    },
    {
      "cell_type": "code",
      "source": [
        "X_train = asarray(X_train)\n",
        "y_train = asarray(y_train)"
      ],
      "metadata": {
        "id": "BGNDmyEhflmu"
      },
      "execution_count": null,
      "outputs": []
    },
    {
      "cell_type": "code",
      "source": [
        "X_test = asarray(X_test)\n",
        "y_test = asarray(y_test)"
      ],
      "metadata": {
        "id": "ZjY-psItiNMm"
      },
      "execution_count": null,
      "outputs": []
    },
    {
      "cell_type": "markdown",
      "source": [
        "Defining CNN for Comparision"
      ],
      "metadata": {
        "id": "CBk4gXpc92Qu"
      }
    },
    {
      "cell_type": "code",
      "execution_count": null,
      "metadata": {
        "id": "QhmRq13yNZLr"
      },
      "outputs": [],
      "source": [
        "from tensorflow.keras.models import Sequential\n",
        "from tensorflow.keras.layers import Conv2D, MaxPooling2D, Flatten, Dense\n",
        "\n",
        "def cnn_model(input_shape=(45, 60, 3), num_classes=4):\n",
        "    model = Sequential()\n",
        "\n",
        "    model.add(Conv2D(32, (3, 3), activation='relu', input_shape=input_shape))\n",
        "    model.add(MaxPooling2D((2, 2)))\n",
        "\n",
        "    model.add(Conv2D(64, (3, 3), activation='relu'))\n",
        "    model.add(MaxPooling2D((2, 2)))\n",
        "\n",
        "    model.add(Conv2D(128, (3, 3), activation='relu'))\n",
        "    model.add(MaxPooling2D((2, 2)))\n",
        "\n",
        "    model.add(Flatten())\n",
        "    model.add(Dense(128, activation='relu'))\n",
        "    model.add(Dense(7, activation='softmax'))\n",
        "\n",
        "    return model"
      ]
    },
    {
      "cell_type": "code",
      "source": [
        "cnn = cnn_model()\n",
        "cnn.compile(optimizer='adam', loss='sparse_categorical_crossentropy', metrics=['accuracy'])\n",
        "cnn.summary()"
      ],
      "metadata": {
        "colab": {
          "base_uri": "https://localhost:8080/"
        },
        "id": "wEcrlF059Z0e",
        "outputId": "c51c9447-fc92-46a3-b098-44a4221a094c"
      },
      "execution_count": null,
      "outputs": [
        {
          "output_type": "stream",
          "name": "stdout",
          "text": [
            "Model: \"sequential_2\"\n",
            "_________________________________________________________________\n",
            " Layer (type)                Output Shape              Param #   \n",
            "=================================================================\n",
            " conv2d_6 (Conv2D)           (None, 43, 58, 32)        896       \n",
            "                                                                 \n",
            " max_pooling2d_6 (MaxPoolin  (None, 21, 29, 32)        0         \n",
            " g2D)                                                            \n",
            "                                                                 \n",
            " conv2d_7 (Conv2D)           (None, 19, 27, 64)        18496     \n",
            "                                                                 \n",
            " max_pooling2d_7 (MaxPoolin  (None, 9, 13, 64)         0         \n",
            " g2D)                                                            \n",
            "                                                                 \n",
            " conv2d_8 (Conv2D)           (None, 7, 11, 128)        73856     \n",
            "                                                                 \n",
            " max_pooling2d_8 (MaxPoolin  (None, 3, 5, 128)         0         \n",
            " g2D)                                                            \n",
            "                                                                 \n",
            " flatten_2 (Flatten)         (None, 1920)              0         \n",
            "                                                                 \n",
            " dense_4 (Dense)             (None, 128)               245888    \n",
            "                                                                 \n",
            " dense_5 (Dense)             (None, 7)                 903       \n",
            "                                                                 \n",
            "=================================================================\n",
            "Total params: 340039 (1.30 MB)\n",
            "Trainable params: 340039 (1.30 MB)\n",
            "Non-trainable params: 0 (0.00 Byte)\n",
            "_________________________________________________________________\n"
          ]
        }
      ]
    },
    {
      "cell_type": "code",
      "source": [
        "cnn.fit(X_train, y_train, epochs=20, batch_size=32, validation_split=0.2,verbose=1)"
      ],
      "metadata": {
        "colab": {
          "base_uri": "https://localhost:8080/"
        },
        "id": "IQwJdShB9GtI",
        "outputId": "d47a465c-4ac7-4123-e26e-054f24a69518"
      },
      "execution_count": null,
      "outputs": [
        {
          "output_type": "stream",
          "name": "stdout",
          "text": [
            "Epoch 1/20\n",
            "100/100 [==============================] - 14s 136ms/step - loss: 0.7793 - accuracy: 0.7150 - val_loss: 1.2697 - val_accuracy: 0.5700\n",
            "Epoch 2/20\n",
            "100/100 [==============================] - 13s 129ms/step - loss: 0.7166 - accuracy: 0.7300 - val_loss: 1.2794 - val_accuracy: 0.5537\n",
            "Epoch 3/20\n",
            "100/100 [==============================] - 15s 145ms/step - loss: 0.6440 - accuracy: 0.7522 - val_loss: 1.2102 - val_accuracy: 0.5825\n",
            "Epoch 4/20\n",
            "100/100 [==============================] - 15s 149ms/step - loss: 0.5657 - accuracy: 0.7828 - val_loss: 1.2261 - val_accuracy: 0.5863\n",
            "Epoch 5/20\n",
            "100/100 [==============================] - 15s 147ms/step - loss: 0.5098 - accuracy: 0.8062 - val_loss: 1.3901 - val_accuracy: 0.6025\n",
            "Epoch 6/20\n",
            "100/100 [==============================] - 13s 129ms/step - loss: 0.4412 - accuracy: 0.8419 - val_loss: 1.4093 - val_accuracy: 0.5975\n",
            "Epoch 7/20\n",
            "100/100 [==============================] - 13s 130ms/step - loss: 0.4778 - accuracy: 0.8206 - val_loss: 1.3443 - val_accuracy: 0.5950\n",
            "Epoch 8/20\n",
            "100/100 [==============================] - 15s 149ms/step - loss: 0.4231 - accuracy: 0.8506 - val_loss: 1.4215 - val_accuracy: 0.6150\n",
            "Epoch 9/20\n",
            "100/100 [==============================] - 14s 144ms/step - loss: 0.3512 - accuracy: 0.8737 - val_loss: 1.3469 - val_accuracy: 0.6087\n",
            "Epoch 10/20\n",
            "100/100 [==============================] - 14s 142ms/step - loss: 0.3296 - accuracy: 0.8763 - val_loss: 1.7335 - val_accuracy: 0.5825\n",
            "Epoch 11/20\n",
            "100/100 [==============================] - 13s 129ms/step - loss: 0.2856 - accuracy: 0.8966 - val_loss: 1.6202 - val_accuracy: 0.5600\n",
            "Epoch 12/20\n",
            "100/100 [==============================] - 13s 132ms/step - loss: 0.3403 - accuracy: 0.8772 - val_loss: 1.6990 - val_accuracy: 0.5888\n",
            "Epoch 13/20\n",
            "100/100 [==============================] - 15s 149ms/step - loss: 0.2409 - accuracy: 0.9109 - val_loss: 1.8263 - val_accuracy: 0.5987\n",
            "Epoch 14/20\n",
            "100/100 [==============================] - 15s 150ms/step - loss: 0.1700 - accuracy: 0.9388 - val_loss: 2.1232 - val_accuracy: 0.5775\n",
            "Epoch 15/20\n",
            "100/100 [==============================] - 14s 142ms/step - loss: 0.3017 - accuracy: 0.8931 - val_loss: 1.8397 - val_accuracy: 0.5788\n",
            "Epoch 16/20\n",
            "100/100 [==============================] - 13s 131ms/step - loss: 0.2815 - accuracy: 0.9003 - val_loss: 1.9516 - val_accuracy: 0.6087\n",
            "Epoch 17/20\n",
            "100/100 [==============================] - 13s 131ms/step - loss: 0.1503 - accuracy: 0.9491 - val_loss: 1.9368 - val_accuracy: 0.6100\n",
            "Epoch 18/20\n",
            "100/100 [==============================] - 14s 143ms/step - loss: 0.3297 - accuracy: 0.8909 - val_loss: 1.9284 - val_accuracy: 0.5650\n",
            "Epoch 19/20\n",
            "100/100 [==============================] - 14s 143ms/step - loss: 0.1919 - accuracy: 0.9316 - val_loss: 2.1334 - val_accuracy: 0.6062\n",
            "Epoch 20/20\n",
            "100/100 [==============================] - 15s 146ms/step - loss: 0.1045 - accuracy: 0.9641 - val_loss: 2.3925 - val_accuracy: 0.6150\n"
          ]
        },
        {
          "output_type": "execute_result",
          "data": {
            "text/plain": [
              "<keras.src.callbacks.History at 0x78b2f9794af0>"
            ]
          },
          "metadata": {},
          "execution_count": 106
        }
      ]
    },
    {
      "cell_type": "code",
      "source": [
        "cnn.save('/content/drive/MyDrive/PR dataset/Trained_models/ann_v00.h5')"
      ],
      "metadata": {
        "colab": {
          "base_uri": "https://localhost:8080/"
        },
        "id": "UV6b_wf5KGXs",
        "outputId": "ac9ece4e-8a76-43de-c89b-0fb9bcbc5bd0"
      },
      "execution_count": null,
      "outputs": [
        {
          "output_type": "stream",
          "name": "stderr",
          "text": [
            "/usr/local/lib/python3.10/dist-packages/keras/src/engine/training.py:3079: UserWarning: You are saving your model as an HDF5 file via `model.save()`. This file format is considered legacy. We recommend using instead the native Keras format, e.g. `model.save('my_model.keras')`.\n",
            "  saving_api.save_model(\n"
          ]
        }
      ]
    },
    {
      "cell_type": "code",
      "source": [
        "y_predict = cnn.predict(X_test)"
      ],
      "metadata": {
        "colab": {
          "base_uri": "https://localhost:8080/"
        },
        "id": "qZ2JO4t4iFMU",
        "outputId": "2f896b26-3059-4bc3-fe04-5c713c1036af"
      },
      "execution_count": null,
      "outputs": [
        {
          "output_type": "stream",
          "name": "stdout",
          "text": [
            "32/32 [==============================] - 2s 68ms/step\n"
          ]
        }
      ]
    },
    {
      "cell_type": "code",
      "source": [
        "conf_matrix = confusion_matrix(y_test, np.argmax(y_predict,axis=1))\n",
        "plt.imshow(conf_matrix, interpolation='nearest', cmap=plt.cm.Blues)\n",
        "plt.title('Confusion Matrix')\n",
        "plt.colorbar()\n",
        "plt.xlabel('Predicted Label')\n",
        "plt.ylabel('True Label')\n",
        "plt.show()"
      ],
      "metadata": {
        "colab": {
          "base_uri": "https://localhost:8080/",
          "height": 472
        },
        "id": "HJqrm28IhiZI",
        "outputId": "74a694bd-13fc-4d7f-800c-fd53e2566321"
      },
      "execution_count": null,
      "outputs": [
        {
          "output_type": "display_data",
          "data": {
            "text/plain": [
              "<Figure size 640x480 with 2 Axes>"
            ],
            "image/png": "[encoded data removed]"
          },
          "metadata": {}
        }
      ]
    },
    {
      "cell_type": "code",
      "source": [
        "print(classification_report(y_test, np.argmax(y_predict,axis=1)))"
      ],
      "metadata": {
        "colab": {
          "base_uri": "https://localhost:8080/"
        },
        "id": "LqKYYNHei0O0",
        "outputId": "3b9ce610-45ea-44d9-9c25-b45bd6fd91bf"
      },
      "execution_count": null,
      "outputs": [
        {
          "output_type": "stream",
          "name": "stdout",
          "text": [
            "              precision    recall  f1-score   support\n",
            "\n",
            "         0.0       0.58      0.57      0.57       111\n",
            "         1.0       0.57      0.32      0.41       105\n",
            "         2.0       0.50      0.61      0.55       190\n",
            "         3.0       0.71      0.98      0.83        94\n",
            "         4.0       0.61      0.47      0.53       196\n",
            "         5.0       0.63      0.66      0.64       193\n",
            "         6.0       0.92      0.98      0.95       111\n",
            "\n",
            "    accuracy                           0.63      1000\n",
            "   macro avg       0.65      0.66      0.64      1000\n",
            "weighted avg       0.63      0.63      0.62      1000\n",
            "\n"
          ]
        }
      ]
    },
    {
      "cell_type": "markdown",
      "source": [
        "Comparison between Sampling techniques"
      ],
      "metadata": {
        "id": "xv0fHXS5pHDA"
      }
    },
    {
      "cell_type": "code",
      "source": [
        "modes = ['Mode 0','Mode 2']\n",
        "classifiers = ['RFC', 'SVM', 'XGBC']\n",
        "\n",
        "scores_no_smote = [\n",
        "    [0.61, 0.59, 0.63],  # Mode 0\n",
        "    [0.62, 0.44, 0.62]   # Mode 2\n",
        "]\n",
        "\n",
        "scores_with_smote = [\n",
        "    [0.34, 0.33, 0.35],  # Mode 0\n",
        "    [0.35, 0.30, 0.40]   # Mode 2\n",
        "]\n",
        "\n",
        "fig, ax = plt.subplots(figsize=(10, 6))\n",
        "\n",
        "for i, mode in enumerate(modes):\n",
        "    ax.plot(classifiers, scores_no_smote[i], marker='o', label=f'{mode} (No SMOTETomek)')\n",
        "\n",
        "for i, mode in enumerate(modes):\n",
        "    ax.plot(classifiers, scores_with_smote[i], marker='x', linestyle='dashed', label=f'{mode} (With SMOTETomek)')\n",
        "\n",
        "ax.set_title('F1 Scores with and Without SMOTETomek')\n",
        "ax.set_xlabel('Classifiers')\n",
        "ax.set_ylabel('F1 Score')\n",
        "ax.legend()\n",
        "\n",
        "plt.show()\n"
      ],
      "metadata": {
        "colab": {
          "base_uri": "https://localhost:8080/",
          "height": 564
        },
        "id": "6wjEXOBTowj1",
        "outputId": "d24eb4f5-50d0-4671-d8a8-2c7ceba1400e"
      },
      "execution_count": 2,
      "outputs": [
        {
          "output_type": "display_data",
          "data": {
            "text/plain": [
              "<Figure size 1000x600 with 1 Axes>"
            ],
            "image/png": "[encoded data removed]"
          },
          "metadata": {}
        }
      ]
    }
  ],
  "metadata": {
    "colab": {
      "provenance": []
    },
    "kernelspec": {
      "display_name": "Python 3",
      "name": "python3"
    },
    "language_info": {
      "name": "python"
    }
  },
  "nbformat": 4,
  "nbformat_minor": 0
}